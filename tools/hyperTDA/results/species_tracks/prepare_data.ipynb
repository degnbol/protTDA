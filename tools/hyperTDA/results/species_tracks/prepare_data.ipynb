{
 "cells": [
  {
   "cell_type": "code",
   "execution_count": 1,
   "id": "8d47e6d3",
   "metadata": {},
   "outputs": [],
   "source": [
    "import numpy as np\n",
    "import pandas as pd"
   ]
  },
  {
   "cell_type": "markdown",
   "id": "2ef2b988",
   "metadata": {},
   "source": [
    "## Read 2-dimensional nematode traks and add time as a z-coordinate"
   ]
  },
  {
   "cell_type": "code",
   "execution_count": 2,
   "id": "6afe1e97",
   "metadata": {},
   "outputs": [],
   "source": [
    "DF = pd.read_csv('nematodes/cel_dta.csv', delimiter=',')\n",
    "for j in range(6):\n",
    "    df = DF.loc[DF['individual'] == j+1]\n",
    "    X = np.array(df['x'])\n",
    "    Y = np.array(df['y'])\n",
    "    v = np.zeros((len(X),2))\n",
    "    v[:,0] = X.T\n",
    "    v[:,1] = Y.T\n",
    "    avg = []\n",
    "    for i in range(len(v)-1):\n",
    "        avg.append(np.linalg.norm(v[i]-v[i+1]))\n",
    "    a = np.average(np.array(avg)) \n",
    "    v = np.zeros((len(X),3))\n",
    "    v[:,0] = X.T\n",
    "    v[:,1] = Y.T\n",
    "    v[:,2] = [i*a/5 for i in range(len(X))]\n",
    "    avg = []\n",
    "    for i in range(len(v)-1):\n",
    "        avg.append(np.linalg.norm(v[i]-v[i+1]))\n",
    "    a = np.average(np.array(avg)) \n",
    "    #np.save('nematodes/pointClouds/nematode_{}.npy'.format(j),v)    "
   ]
  },
  {
   "cell_type": "markdown",
   "id": "18f8992e",
   "metadata": {},
   "source": [
    "## Scale simulated and in vivo tracks to have the average distance between adjacent points equal to one"
   ]
  },
  {
   "cell_type": "code",
   "execution_count": 3,
   "id": "02f9ad84",
   "metadata": {},
   "outputs": [],
   "source": [
    "def md(c):\n",
    "    \"\"\"\n",
    "    Computes average displacement of a curve c\n",
    "    \"\"\"\n",
    "    l = [np.linalg.norm(c[i]-c[i+1]) for i in range(len(c)-1)]\n",
    "    r = np.average(np.array(l))\n",
    "    return r"
   ]
  },
  {
   "cell_type": "code",
   "execution_count": 4,
   "id": "3ec15585",
   "metadata": {},
   "outputs": [],
   "source": [
    "df = pd.read_csv('zebrafish/exampleDataPRW.csv')\n",
    "\n",
    "\n",
    "for i in list(set(df['id']))[:-1]:\n",
    "    n = len(df.loc[df['id']==i])\n",
    "    c = np.zeros((n,3))\n",
    "    c[:,0] = df.loc[df['id']==i]['x']\n",
    "    c[:,1] = df.loc[df['id']==i]['y']\n",
    "    c[:,2] = df.loc[df['id']==i]['z']\n",
    "    d = md(c)\n",
    "    #cc = np.array([el/d for el in c])\n",
    "    #print(i,d,md(cc),len(cc))\n",
    "    #np.save('zebrafishs/pointClouds/unbiased_{}.npy'.format(i),cc)"
   ]
  },
  {
   "cell_type": "code",
   "execution_count": 5,
   "id": "8c9f98e3",
   "metadata": {},
   "outputs": [],
   "source": [
    "df = pd.read_csv('zebrafish/exampleDataBPRW.csv')\n",
    "\n",
    "\n",
    "for i in list(set(df['id']))[:-1]:\n",
    "    n = len(df.loc[df['id']==i])\n",
    "    c = np.zeros((n,3))\n",
    "    c[:,0] = df.loc[df['id']==i]['x']\n",
    "    c[:,1] = df.loc[df['id']==i]['y']\n",
    "    c[:,2] = df.loc[df['id']==i]['z']\n",
    "    d = md(c)\n",
    "    cc = np.array([el/d for el in c])\n",
    "    #print(i,d,md(cc),len(cc))\n",
    "    #np.save('zebrafishs/pointClouds/biased_{}.npy'.format(i),cc)"
   ]
  },
  {
   "cell_type": "markdown",
   "id": "8f60324e",
   "metadata": {},
   "source": [
    "#### Cut zebrafish tracks to have them of same length as simulated dataset"
   ]
  },
  {
   "cell_type": "code",
   "execution_count": 6,
   "id": "cfb4e234",
   "metadata": {},
   "outputs": [],
   "source": [
    "df = pd.read_csv('zebrafish/inVivoData.csv')\n",
    "index = 0\n",
    "curves = []\n",
    "for i in list(set(df['id'])):\n",
    "    n = len(df.loc[df['id']==i])\n",
    "    c = np.zeros((n,3))\n",
    "    c[:,0] = df.loc[df['id']==i]['x']\n",
    "    c[:,1] = df.loc[df['id']==i]['y']\n",
    "    c[:,2] = df.loc[df['id']==i]['z']\n",
    "    for j in range(0,5000,20):\n",
    "        if len(c[j:j+20]) > 18:\n",
    "            d = md(c[j:j+20])\n",
    "            cc = np.array([el/d for el in c[j:j+20]])\n",
    "            #print(j, index,d,md(cc),len(cc))\n",
    "            index+=1\n",
    "            #np.save('zebrafish/pointClouds/zebrafish_{}.npy'.format(index),cc)\n",
    "            \n",
    "    \n",
    "        "
   ]
  },
  {
   "cell_type": "code",
   "execution_count": null,
   "id": "d90ebddd",
   "metadata": {},
   "outputs": [],
   "source": []
  },
  {
   "cell_type": "code",
   "execution_count": null,
   "id": "b1137a5d",
   "metadata": {},
   "outputs": [],
   "source": []
  },
  {
   "cell_type": "code",
   "execution_count": null,
   "id": "4d903c2a",
   "metadata": {},
   "outputs": [],
   "source": []
  },
  {
   "cell_type": "code",
   "execution_count": null,
   "id": "8e90cd02",
   "metadata": {},
   "outputs": [],
   "source": []
  },
  {
   "cell_type": "code",
   "execution_count": null,
   "id": "de0c8a0e",
   "metadata": {},
   "outputs": [],
   "source": []
  },
  {
   "cell_type": "code",
   "execution_count": null,
   "id": "ccff70a3",
   "metadata": {},
   "outputs": [],
   "source": []
  }
 ],
 "metadata": {
  "@webio": {
   "lastCommId": null,
   "lastKernelId": null
  },
  "kernelspec": {
   "display_name": "Python 3 (ipykernel)",
   "language": "python",
   "name": "python3"
  },
  "language_info": {
   "codemirror_mode": {
    "name": "ipython",
    "version": 3
   },
   "file_extension": ".py",
   "mimetype": "text/x-python",
   "name": "python",
   "nbconvert_exporter": "python",
   "pygments_lexer": "ipython3",
   "version": "3.9.7"
  }
 },
 "nbformat": 4,
 "nbformat_minor": 5
}
